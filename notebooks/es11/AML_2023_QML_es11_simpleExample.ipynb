{
  "nbformat": 4,
  "nbformat_minor": 0,
  "metadata": {
    "colab": {
      "provenance": [],
      "gpuType": "T4",
      "authorship_tag": "ABX9TyOtTIPKhohN4bLqOBebPx56",
      "include_colab_link": true
    },
    "kernelspec": {
      "name": "python3",
      "display_name": "Python 3"
    },
    "language_info": {
      "name": "python"
    },
    "accelerator": "GPU"
  },
  "cells": [
    {
      "cell_type": "markdown",
      "metadata": {
        "id": "view-in-github",
        "colab_type": "text"
      },
      "source": [
        "<a href=\"https://colab.research.google.com/github/stefanogiagu/corso_AML_2023/blob/main/notebooks/es11/AML_2023_QML_es11_simpleExample.ipynb\" target=\"_parent\"><img src=\"https://colab.research.google.com/assets/colab-badge.svg\" alt=\"Open In Colab\"/></a>"
      ]
    },
    {
      "cell_type": "markdown",
      "source": [
        "# Advanced Machine Learning for Physics 2022-2023\n",
        "## Hands-on session 11\n",
        "\n",
        "Simple Variational Quantum Circuit example\n",
        "\n",
        "3-quibit Ising Model from pennylane library demo: https://pennylane.ai/qml/demos/tutorial_isingmodel_PyTorch.html\n",
        "\n",
        "References:\n",
        "* Maria Schuld and Francesco Petruccione. “Supervised Learning with Quantum Computers.” Springer, 2018.\n",
        "* Andrew Lucas. “Ising formulations of many NP problems.” arXiv:1302.5843, 2014.\n",
        "* Gary Kochenberger et al. “The Unconstrained Binary Quadratic Programming Problem: A Survey.” Journal of Combinatorial Optimization, 2014."
      ],
      "metadata": {
        "id": "xMkFCIU-KDMm"
      }
    },
    {
      "cell_type": "code",
      "execution_count": null,
      "metadata": {
        "colab": {
          "base_uri": "https://localhost:8080/"
        },
        "id": "Hsoc7u8KThlR",
        "outputId": "8c20242b-9a3c-42c9-f333-dcaaab57856f"
      },
      "outputs": [
        {
          "output_type": "stream",
          "name": "stdout",
          "text": [
            "Looking in indexes: https://pypi.org/simple, https://us-python.pkg.dev/colab-wheels/public/simple/\n",
            "Collecting pennylane\n",
            "  Downloading PennyLane-0.30.0-py3-none-any.whl (1.4 MB)\n",
            "\u001b[2K     \u001b[90m━━━━━━━━━━━━━━━━━━━━━━━━━━━━━━━━━━━━━━━━\u001b[0m \u001b[32m1.4/1.4 MB\u001b[0m \u001b[31m34.6 MB/s\u001b[0m eta \u001b[36m0:00:00\u001b[0m\n",
            "\u001b[?25hRequirement already satisfied: numpy<1.24 in /usr/local/lib/python3.10/dist-packages (from pennylane) (1.22.4)\n",
            "Requirement already satisfied: scipy in /usr/local/lib/python3.10/dist-packages (from pennylane) (1.10.1)\n",
            "Requirement already satisfied: networkx in /usr/local/lib/python3.10/dist-packages (from pennylane) (3.1)\n",
            "Collecting rustworkx (from pennylane)\n",
            "  Downloading rustworkx-0.13.0-cp310-cp310-manylinux_2_17_x86_64.manylinux2014_x86_64.whl (1.9 MB)\n",
            "\u001b[2K     \u001b[90m━━━━━━━━━━━━━━━━━━━━━━━━━━━━━━━━━━━━━━━━\u001b[0m \u001b[32m1.9/1.9 MB\u001b[0m \u001b[31m89.1 MB/s\u001b[0m eta \u001b[36m0:00:00\u001b[0m\n",
            "\u001b[?25hRequirement already satisfied: autograd in /usr/local/lib/python3.10/dist-packages (from pennylane) (1.5)\n",
            "Requirement already satisfied: toml in /usr/local/lib/python3.10/dist-packages (from pennylane) (0.10.2)\n",
            "Requirement already satisfied: appdirs in /usr/local/lib/python3.10/dist-packages (from pennylane) (1.4.4)\n",
            "Collecting semantic-version>=2.7 (from pennylane)\n",
            "  Downloading semantic_version-2.10.0-py2.py3-none-any.whl (15 kB)\n",
            "Collecting autoray>=0.3.1 (from pennylane)\n",
            "  Downloading autoray-0.6.3-py3-none-any.whl (48 kB)\n",
            "\u001b[2K     \u001b[90m━━━━━━━━━━━━━━━━━━━━━━━━━━━━━━━━━━━━━━━━\u001b[0m \u001b[32m48.3/48.3 kB\u001b[0m \u001b[31m6.1 MB/s\u001b[0m eta \u001b[36m0:00:00\u001b[0m\n",
            "\u001b[?25hRequirement already satisfied: cachetools in /usr/local/lib/python3.10/dist-packages (from pennylane) (5.3.0)\n",
            "Collecting pennylane-lightning>=0.30 (from pennylane)\n",
            "  Downloading PennyLane_Lightning-0.30.0-cp310-cp310-manylinux_2_17_x86_64.manylinux2014_x86_64.whl (16.6 MB)\n",
            "\u001b[2K     \u001b[90m━━━━━━━━━━━━━━━━━━━━━━━━━━━━━━━━━━━━━━━━\u001b[0m \u001b[32m16.6/16.6 MB\u001b[0m \u001b[31m71.9 MB/s\u001b[0m eta \u001b[36m0:00:00\u001b[0m\n",
            "\u001b[?25hRequirement already satisfied: requests in /usr/local/lib/python3.10/dist-packages (from pennylane) (2.27.1)\n",
            "Requirement already satisfied: future>=0.15.2 in /usr/local/lib/python3.10/dist-packages (from autograd->pennylane) (0.18.3)\n",
            "Requirement already satisfied: urllib3<1.27,>=1.21.1 in /usr/local/lib/python3.10/dist-packages (from requests->pennylane) (1.26.15)\n",
            "Requirement already satisfied: certifi>=2017.4.17 in /usr/local/lib/python3.10/dist-packages (from requests->pennylane) (2022.12.7)\n",
            "Requirement already satisfied: charset-normalizer~=2.0.0 in /usr/local/lib/python3.10/dist-packages (from requests->pennylane) (2.0.12)\n",
            "Requirement already satisfied: idna<4,>=2.5 in /usr/local/lib/python3.10/dist-packages (from requests->pennylane) (3.4)\n",
            "Installing collected packages: semantic-version, rustworkx, autoray, pennylane-lightning, pennylane\n",
            "Successfully installed autoray-0.6.3 pennylane-0.30.0 pennylane-lightning-0.30.0 rustworkx-0.13.0 semantic-version-2.10.0\n"
          ]
        }
      ],
      "source": [
        "# install pennylane libraries\n",
        "!pip install pennylane --upgrade"
      ]
    },
    {
      "cell_type": "markdown",
      "source": [
        "This basic tutorial optimizes a 3-qubit Ising model using the PennyLane default.qubit device with PyTorch. In the absence of external fields, the Hamiltonian for this system is given by:\n",
        "\n",
        "$H = - \\sum_{<i,j>}J_{ij}\\sigma_i\\sigma_j$\n",
        "\n",
        "where each spin can be in the +1 or -1 spin state and $J_{ij}$ are the nearest-neighbour coupling strengths.\n",
        "\n",
        "For simplicity, the first spin can be assumed to be in the “up” state (+1 eigenstate of Pauli-Z operator) and the coupling matrix can be set to $J=[1,-1]$. The rotation angles for the other two spins will be then optimized so that the energy of the system is minimized for the given couplings."
      ],
      "metadata": {
        "id": "jZkFQQ92USff"
      }
    },
    {
      "cell_type": "code",
      "source": [
        "import torch\n",
        "from torch.autograd import Variable\n",
        "import pennylane as qml\n",
        "from pennylane import numpy as np"
      ],
      "metadata": {
        "id": "9Kjs9bwbTq3n"
      },
      "execution_count": null,
      "outputs": []
    },
    {
      "cell_type": "code",
      "source": [
        "# A three-qubit quantum circuit is initialized to represent the three spins:\n",
        "\n",
        "dev = qml.device(\"default.qubit\", wires=3) #wires defines the number of wires (qubits) in the quantum circuit\n",
        "\n",
        "@qml.qnode(dev, interface=\"torch\") #uses the torch backend\n",
        "def circuit(p1, p2):\n",
        "    # We use the general Rot(phi,theta,omega,wires) single-qubit operation (remember the first spin is assumed to be in \"up\" state)\n",
        "    qml.Rot(p1[0], p1[1], p1[2], wires=1)\n",
        "    qml.Rot(p2[0], p2[1], p2[2], wires=2)\n",
        "    return [qml.expval(qml.PauliZ(i)) for i in range(3)] #measurement expval returns the expectation value of the supplied observable (PauliZ in our case)\n"
      ],
      "metadata": {
        "id": "Epu9M-VLUvf9"
      },
      "execution_count": null,
      "outputs": []
    },
    {
      "cell_type": "code",
      "source": [
        "# The cost function to be minimized is defined as the energy of the spin configuration:\n",
        "\n",
        "def cost(var1, var2):\n",
        "    # the circuit function returns a numpy array of Pauli-Z expectation values\n",
        "    spins = circuit(var1, var2)\n",
        "\n",
        "    # the expectation value of Pauli-Z is +1 for spin up and -1 for spin down\n",
        "    energy = -(1 * spins[0] * spins[1]) - (-1 * spins[1] * spins[2])\n",
        "    return energy"
      ],
      "metadata": {
        "id": "9OU5D5YWVCee"
      },
      "execution_count": null,
      "outputs": []
    },
    {
      "cell_type": "markdown",
      "source": [
        "Let’s test the functions above using the $[s_1,s_2,s_3] = [1,-1,-1]$ spin configuration and the given coupling matrix. The total energy for this Ising model should be:\n",
        "\n",
        "$H = -1(J_1s_1\\otimes s_2 + J_2s_2\\otimes s_3)=2$\n"
      ],
      "metadata": {
        "id": "xU__gn-lVSOR"
      }
    },
    {
      "cell_type": "code",
      "source": [
        "# first spin \"up\"\n",
        "# second spin \"down\" (rotate theta = pi)\n",
        "test1 = torch.tensor([0, np.pi, 0])\n",
        "# tird spin \"down\" (rotate theta = pi)\n",
        "test2 = torch.tensor([0, np.pi, 0])\n",
        "\n",
        "cost_check = cost(test1, test2)\n",
        "print(\"Energy for [1, -1, -1] spin configuration:\", cost_check.item())"
      ],
      "metadata": {
        "colab": {
          "base_uri": "https://localhost:8080/"
        },
        "id": "M-McDYaoVPTk",
        "outputId": "421e5938-981d-405f-834a-551bfdb5619e"
      },
      "execution_count": null,
      "outputs": [
        {
          "output_type": "stream",
          "name": "stdout",
          "text": [
            "Energy for [1, -1, -1] spin configuration: 2.0000000000000036\n"
          ]
        }
      ]
    },
    {
      "cell_type": "code",
      "source": [
        "# random initialization of the spin direction\n",
        "\n",
        "torch.manual_seed(56)\n",
        "p1 = Variable((np.pi * torch.rand(3, dtype=torch.float64)), requires_grad=True)\n",
        "p2 = Variable((np.pi * torch.rand(3, dtype=torch.float64)), requires_grad=True)\n",
        "\n",
        "var_init = [p1, p2]\n",
        "cost_init = cost(p1, p2)\n",
        "\n",
        "print(\"Randomly initialized angles:\")\n",
        "print(p1)\n",
        "print(p2)\n",
        "print(\"Corresponding cost before optimization:\")\n",
        "print(cost_init.item())"
      ],
      "metadata": {
        "colab": {
          "base_uri": "https://localhost:8080/"
        },
        "id": "Lewrt3A5V-bI",
        "outputId": "17975df8-753e-4880-d397-2321f089f0a7"
      },
      "execution_count": null,
      "outputs": [
        {
          "output_type": "stream",
          "name": "stdout",
          "text": [
            "Randomly initialized angles:\n",
            "tensor([1.9632, 2.6022, 2.3277], dtype=torch.float64, requires_grad=True)\n",
            "tensor([0.6521, 2.8474, 2.4300], dtype=torch.float64, requires_grad=True)\n",
            "Corresponding cost before optimization:\n",
            "1.679212961854227\n"
          ]
        }
      ]
    },
    {
      "cell_type": "code",
      "source": [
        "# optimization: e.g.  use the PyTorch gradient descent optimizer to minimize the cost\n",
        "\n",
        "opt = torch.optim.SGD(var_init, lr=0.1)\n",
        "\n",
        "def closure(): #function (closure) that reevaluates the model and returns the loss\n",
        "    opt.zero_grad() #sets all the gradients back to zero\n",
        "    loss = cost(p1, p2)\n",
        "    loss.backward() #computes the gradient of the cost function with respect to all parameters with requires_grad=True.\n",
        "    return loss\n",
        "\n",
        "var_pt = [var_init]\n",
        "cost_pt = [cost_init]\n",
        "x = [0]\n",
        "\n",
        "for i in range(100):\n",
        "    opt.step(closure) #performs the parameter update based on this current gradient and the learning rate.\n",
        "    if (i + 1) % 5 == 0:\n",
        "        x.append(i)\n",
        "        p1n, p2n = opt.param_groups[0][\"params\"]\n",
        "        costn = cost(p1n, p2n)\n",
        "        var_pt.append([p1n, p2n])\n",
        "        cost_pt.append(costn)\n",
        "\n",
        "        # for clarity, the angles are printed as numpy arrays\n",
        "        print(\"Energy after step {:5d}: {: .7f} | Angles: {}\".format(\n",
        "            i+1, costn, [p1n.detach().numpy(), p2n.detach().numpy()]),\"\\n\"\n",
        "        )\n",
        "\n"
      ],
      "metadata": {
        "colab": {
          "base_uri": "https://localhost:8080/"
        },
        "id": "5ufjLGs7WQFE",
        "outputId": "580f37db-492f-40f8-b1f4-f2b7c5c96609"
      },
      "execution_count": null,
      "outputs": [
        {
          "output_type": "stream",
          "name": "stdout",
          "text": [
            "Energy after step     5:  0.6846474 | Angles: [array([1.96323939, 1.93604492, 2.32767565]), array([0.65212549, 2.73080219, 2.4299563 ])] \n",
            "\n",
            "Energy after step    10: -1.0138530 | Angles: [array([1.96323939, 1.0136468 , 2.32767565]), array([0.65212549, 2.73225282, 2.4299563 ])] \n",
            "\n",
            "Energy after step    15: -1.8171995 | Angles: [array([1.96323939, 0.38483073, 2.32767565]), array([0.65212549, 2.85992571, 2.4299563 ])] \n",
            "\n",
            "Energy after step    20: -1.9686584 | Angles: [array([1.96323939, 0.13026452, 2.32767565]), array([0.65212549, 2.97097572, 2.4299563 ])] \n",
            "\n",
            "Energy after step    25: -1.9930403 | Angles: [array([1.96323939, 0.04302756, 2.32767565]), array([0.65212549, 3.04042222, 2.4299563 ])] \n",
            "\n",
            "Energy after step    30: -1.9980133 | Angles: [array([1.96323939, 0.01413292, 2.32767565]), array([0.65212549, 3.08179844, 2.4299563 ])] \n",
            "\n",
            "Energy after step    35: -1.9993550 | Angles: [array([1.96323939, 0.00463472, 2.32767565]), array([0.65212549, 3.10627578, 2.4299563 ])] \n",
            "\n",
            "Energy after step    40: -1.9997802 | Angles: [array([1.96323939e+00, 1.51911413e-03, 2.32767565e+00]), array([0.65212549, 3.12073668, 2.4299563 ])] \n",
            "\n",
            "Energy after step    45: -1.9999239 | Angles: [array([1.96323939e+00, 4.97829828e-04, 2.32767565e+00]), array([0.65212549, 3.12927707, 2.4299563 ])] \n",
            "\n",
            "Energy after step    50: -1.9999735 | Angles: [array([1.96323939e+00, 1.63134183e-04, 2.32767565e+00]), array([0.65212549, 3.13432035, 2.4299563 ])] \n",
            "\n",
            "Energy after step    55: -1.9999908 | Angles: [array([1.96323939e+00, 5.34564150e-05, 2.32767565e+00]), array([0.65212549, 3.13729842, 2.4299563 ])] \n",
            "\n",
            "Energy after step    60: -1.9999968 | Angles: [array([1.96323939e+00, 1.75166673e-05, 2.32767565e+00]), array([0.65212549, 3.13905695, 2.4299563 ])] \n",
            "\n",
            "Energy after step    65: -1.9999989 | Angles: [array([1.96323939e+00, 5.73986944e-06, 2.32767565e+00]), array([0.65212549, 3.14009534, 2.4299563 ])] \n",
            "\n",
            "Energy after step    70: -1.9999996 | Angles: [array([1.96323939e+00, 1.88084132e-06, 2.32767565e+00]), array([0.65212549, 3.14070851, 2.4299563 ])] \n",
            "\n",
            "Energy after step    75: -1.9999999 | Angles: [array([1.96323939e+00, 6.16314188e-07, 2.32767565e+00]), array([0.65212549, 3.14107057, 2.4299563 ])] \n",
            "\n",
            "Energy after step    80: -2.0000000 | Angles: [array([1.96323939e+00, 2.01953845e-07, 2.32767565e+00]), array([0.65212549, 3.14128437, 2.4299563 ])] \n",
            "\n",
            "Energy after step    85: -2.0000000 | Angles: [array([1.96323939e+00, 6.61762372e-08, 2.32767565e+00]), array([0.65212549, 3.14141062, 2.4299563 ])] \n",
            "\n",
            "Energy after step    90: -2.0000000 | Angles: [array([1.96323939e+00, 2.16846296e-08, 2.32767565e+00]), array([0.65212549, 3.14148516, 2.4299563 ])] \n",
            "\n",
            "Energy after step    95: -2.0000000 | Angles: [array([1.96323939e+00, 7.10561943e-09, 2.32767565e+00]), array([0.65212549, 3.14152918, 2.4299563 ])] \n",
            "\n",
            "Energy after step   100: -2.0000000 | Angles: [array([1.96323939e+00, 2.32836938e-09, 2.32767565e+00]), array([0.65212549, 3.14155517, 2.4299563 ])] \n",
            "\n"
          ]
        }
      ]
    },
    {
      "cell_type": "markdown",
      "source": [
        "as expected the minimum energy is -2 for the spin configuration $[s_1,s_2,s_3] = [1,1,-1]$ which corresponds to $(\\phi,\\theta,\\omega)=(0,0,0)$ for the second spin and $(\\phi,\\theta,\\omega)=(0,\\pi,0)$ for the third spin.\n",
        "\n",
        "Note that gradient descent optimization might not find this global minimum due to the non-convex cost function, as is shown in the next section..."
      ],
      "metadata": {
        "id": "SUOtWhuuX0dG"
      }
    },
    {
      "cell_type": "code",
      "source": [
        "p1_final, p2_final = opt.param_groups[0][\"params\"]\n",
        "print(\"Optimized angles:\")\n",
        "print(p1_final)\n",
        "print(p2_final)\n",
        "print(\"Final cost after optimization:\")\n",
        "print(cost(p1_final, p2_final))"
      ],
      "metadata": {
        "colab": {
          "base_uri": "https://localhost:8080/"
        },
        "id": "IMnRAKCdXz0x",
        "outputId": "d972554c-f487-4b5a-f786-d464cf2e87f9"
      },
      "execution_count": null,
      "outputs": [
        {
          "output_type": "stream",
          "name": "stdout",
          "text": [
            "Optimized angles:\n",
            "tensor([1.9632e+00, 2.3284e-09, 2.3277e+00], dtype=torch.float64,\n",
            "       requires_grad=True)\n",
            "tensor([0.6521, 3.1416, 2.4300], dtype=torch.float64, requires_grad=True)\n",
            "Final cost after optimization:\n",
            "tensor(-2.0000, dtype=torch.float64, grad_fn=<SubBackward0>)\n"
          ]
        }
      ]
    },
    {
      "cell_type": "code",
      "source": [
        "import matplotlib\n",
        "import matplotlib.pyplot as plt\n",
        "\n",
        "fig = plt.figure(figsize=(6, 4))\n",
        "\n",
        "# Enable processing the Torch trainable tensors\n",
        "with torch.no_grad():\n",
        "    plt.plot(x, cost_pt, label = 'global minimum')\n",
        "    plt.xlabel(\"Optimization steps\")\n",
        "    plt.ylabel(\"Cost / Energy\")\n",
        "    plt.legend()\n",
        "    plt.show()"
      ],
      "metadata": {
        "colab": {
          "base_uri": "https://localhost:8080/",
          "height": 388
        },
        "id": "giVo1iTQYWW4",
        "outputId": "6fe3b22a-506b-4e17-a5be-0b0b98f70e5a"
      },
      "execution_count": null,
      "outputs": [
        {
          "output_type": "display_data",
          "data": {
            "text/plain": [
              "<Figure size 600x400 with 1 Axes>"
            ],
            "image/png": "[encoded data removed]"
          },
          "metadata": {}
        }
      ]
    },
    {
      "cell_type": "code",
      "source": [
        "#If the spins are initialized close to the local minimum of zero energy,\n",
        "#the optimizer is likely to get stuck here and never find the global minimum at -2.\n",
        "\n",
        "torch.manual_seed(9)\n",
        "p3 = Variable((np.pi*torch.rand(3, dtype = torch.float64)), requires_grad = True)\n",
        "p4 = Variable((np.pi*torch.rand(3, dtype = torch.float64)), requires_grad = True)\n",
        "\n",
        "var_init_loc = [p3, p4]\n",
        "cost_init_loc = cost(p3, p4)\n",
        "\n",
        "print(\"Corresponding cost before optimization:\")\n",
        "print(cost_init_loc)"
      ],
      "metadata": {
        "colab": {
          "base_uri": "https://localhost:8080/"
        },
        "id": "rhdEdvlsYb7F",
        "outputId": "2a1b834e-7dc6-457c-953c-9d3b4f55c4a0"
      },
      "execution_count": null,
      "outputs": [
        {
          "output_type": "stream",
          "name": "stdout",
          "text": [
            "Corresponding cost before optimization:\n",
            "tensor(0.0082, dtype=torch.float64, grad_fn=<SubBackward0>)\n"
          ]
        }
      ]
    },
    {
      "cell_type": "code",
      "source": [
        "opt = torch.optim.SGD(var_init_loc, lr = 0.1)\n",
        "\n",
        "def closure():\n",
        "    opt.zero_grad()\n",
        "    loss = cost(p3, p4)\n",
        "    loss.backward()\n",
        "    return loss\n",
        "\n",
        "var_pt_loc = [var_init_loc]\n",
        "cost_pt_loc = [cost_init_loc]\n",
        "\n",
        "for j in range(100):\n",
        "    opt.step(closure)\n",
        "    if (j + 1) % 5 == 0:\n",
        "        p3n, p4n = opt.param_groups[0]['params']\n",
        "        costn = cost(p3n, p4n)\n",
        "        var_pt_loc.append([p3n, p4n])\n",
        "        cost_pt_loc.append(costn)\n",
        "\n",
        "        # for clarity, the angles are printed as numpy arrays\n",
        "        print('Energy after step {:5d}: {: .7f} | Angles: {}'.format(\n",
        "            j+1, costn, [p3n.detach().numpy(), p4n.detach().numpy()]),\"\\n\"\n",
        "        )\n"
      ],
      "metadata": {
        "colab": {
          "base_uri": "https://localhost:8080/"
        },
        "id": "ztpx6X9QYjR6",
        "outputId": "00559ad2-9dee-4d9d-c24f-2501085c4d3b"
      },
      "execution_count": null,
      "outputs": [
        {
          "output_type": "stream",
          "name": "stdout",
          "text": [
            "Energy after step     5:  0.0032761 | Angles: [array([0.77369911, 2.63471297, 1.07981163]), array([0.26038622, 0.08659858, 1.91060734])] \n",
            "\n",
            "Energy after step    10:  0.0013137 | Angles: [array([0.77369911, 2.63406019, 1.07981163]), array([0.26038622, 0.05483683, 1.91060734])] \n",
            "\n",
            "Energy after step    15:  0.0005266 | Angles: [array([0.77369911, 2.63379816, 1.07981163]), array([0.26038622, 0.03471974, 1.91060734])] \n",
            "\n",
            "Energy after step    20:  0.0002111 | Angles: [array([0.77369911, 2.63369307, 1.07981163]), array([0.26038622, 0.02198151, 1.91060734])] \n",
            "\n",
            "Energy after step    25:  0.0000846 | Angles: [array([0.77369911, 2.63365094, 1.07981163]), array([0.26038622, 0.01391648, 1.91060734])] \n",
            "\n",
            "Energy after step    30:  0.0000339 | Angles: [array([0.77369911, 2.63363405, 1.07981163]), array([0.26038622, 0.00881044, 1.91060734])] \n",
            "\n",
            "Energy after step    35:  0.0000136 | Angles: [array([0.77369911, 2.63362729, 1.07981163]), array([0.26038622, 0.00557782, 1.91060734])] \n",
            "\n",
            "Energy after step    40:  0.0000054 | Angles: [array([0.77369911, 2.63362457, 1.07981163]), array([0.26038622, 0.00353126, 1.91060734])] \n",
            "\n",
            "Energy after step    45:  0.0000022 | Angles: [array([0.77369911, 2.63362348, 1.07981163]), array([0.26038622, 0.00223561, 1.91060734])] \n",
            "\n",
            "Energy after step    50:  0.0000009 | Angles: [array([0.77369911, 2.63362305, 1.07981163]), array([2.60386222e-01, 1.41534339e-03, 1.91060734e+00])] \n",
            "\n",
            "Energy after step    55:  0.0000004 | Angles: [array([0.77369911, 2.63362287, 1.07981163]), array([2.60386222e-01, 8.96040252e-04, 1.91060734e+00])] \n",
            "\n",
            "Energy after step    60:  0.0000001 | Angles: [array([0.77369911, 2.6336228 , 1.07981163]), array([2.60386222e-01, 5.67274421e-04, 1.91060734e+00])] \n",
            "\n",
            "Energy after step    65:  0.0000001 | Angles: [array([0.77369911, 2.63362278, 1.07981163]), array([2.60386222e-01, 3.59135947e-04, 1.91060734e+00])] \n",
            "\n",
            "Energy after step    70:  0.0000000 | Angles: [array([0.77369911, 2.63362276, 1.07981163]), array([2.60386222e-01, 2.27365491e-04, 1.91060734e+00])] \n",
            "\n",
            "Energy after step    75:  0.0000000 | Angles: [array([0.77369911, 2.63362276, 1.07981163]), array([2.60386222e-01, 1.43942891e-04, 1.91060734e+00])] \n",
            "\n",
            "Energy after step    80:  0.0000000 | Angles: [array([0.77369911, 2.63362276, 1.07981163]), array([2.60386222e-01, 9.11288509e-05, 1.91060734e+00])] \n",
            "\n",
            "Energy after step    85:  0.0000000 | Angles: [array([0.77369911, 2.63362276, 1.07981163]), array([2.60386222e-01, 5.76927932e-05, 1.91060734e+00])] \n",
            "\n",
            "Energy after step    90:  0.0000000 | Angles: [array([0.77369911, 2.63362276, 1.07981163]), array([2.60386222e-01, 3.65247488e-05, 1.91060734e+00])] \n",
            "\n",
            "Energy after step    95:  0.0000000 | Angles: [array([0.77369911, 2.63362276, 1.07981163]), array([2.60386222e-01, 2.31234648e-05, 1.91060734e+00])] \n",
            "\n",
            "Energy after step   100:  0.0000000 | Angles: [array([0.77369911, 2.63362276, 1.07981163]), array([2.60386222e-01, 1.46392417e-05, 1.91060734e+00])] \n",
            "\n"
          ]
        }
      ]
    },
    {
      "cell_type": "code",
      "source": [
        "fig = plt.figure(figsize=(6, 4))\n",
        "\n",
        "# Enable processing the Torch trainable tensors\n",
        "with torch.no_grad():\n",
        "    plt.plot(x, cost_pt_loc, 'r', label = 'local minimum')\n",
        "    plt.xlabel(\"Optimization steps\")\n",
        "    plt.ylabel(\"Cost / Energy\")\n",
        "    plt.legend()\n",
        "    plt.show()"
      ],
      "metadata": {
        "colab": {
          "base_uri": "https://localhost:8080/",
          "height": 388
        },
        "id": "UwQ_KHqgYnlu",
        "outputId": "a938fd76-b7e2-40c0-febe-c8e610d4ecca"
      },
      "execution_count": null,
      "outputs": [
        {
          "output_type": "display_data",
          "data": {
            "text/plain": [
              "<Figure size 600x400 with 1 Axes>"
            ],
            "image/png": "[encoded data removed]"
          },
          "metadata": {}
        }
      ]
    }
  ]
}